{
 "cells": [
  {
   "cell_type": "code",
   "execution_count": 1,
   "metadata": {},
   "outputs": [],
   "source": [
    "import os\n",
    "import numpy as np\n",
    "import pandas as pd\n",
    "import seaborn as sns\n",
    "import matplotlib.pyplot as plt\n",
    "import requests\n",
    "import datetime as dt\n",
    "import math\n",
    "import time\n",
    "import re   \n",
    "from datetime import datetime, timedelta\n",
    "from dateutil.relativedelta import relativedelta\n",
    "import quantstats\n",
    "plt.style.use('ggplot')\n",
    "os.chdir(\"C:/Users/ss871/OneDrive/桌面/python/Quant/DATA\")"
   ]
  },
  {
   "cell_type": "markdown",
   "metadata": {},
   "source": [
    "處理資料"
   ]
  },
  {
   "cell_type": "code",
   "execution_count": 2,
   "metadata": {},
   "outputs": [],
   "source": [
    "history_turnover = pd.read_csv(\"History_turnover.csv\", encoding='cp950')\n",
    "history_turnover['年月'] = pd.to_datetime(history_turnover['年月'], format='%Y%m')\n",
    "history_turnover = history_turnover.set_index(['證券代碼','年月'])"
   ]
  },
  {
   "cell_type": "code",
   "execution_count": 4,
   "metadata": {},
   "outputs": [],
   "source": [
    "df = pd.read_csv(\"20231014060035.csv\", encoding='cp950')\n",
    "df['年月'] = pd.to_datetime(df['年月'], format='%Y%m')\n",
    "df=df.set_index(['證券代碼','年月'])"
   ]
  },
  {
   "cell_type": "code",
   "execution_count": 6,
   "metadata": {},
   "outputs": [],
   "source": [
    "k = 9\n",
    "df_turnover = df.unstack()[\"週轉率％_月\"].drop(columns=df.unstack()[\"週轉率％_月\"].columns[0:k-1])\n",
    "df_turnover.fillna(0,inplace=True)\n",
    "df_return = df.unstack()[\"報酬率％_月\"].drop(columns=df.unstack()[\"報酬率％_月\"].columns[0:k-1])\n",
    "df_return.fillna(-100,inplace=True)\n",
    "return_m=df.groupby(level=0).rolling(window=k).mean()['報酬率％_月']\n",
    "return_m=return_m.unstack()\n",
    "return_m=return_m.reset_index(level=0,drop=True)\n",
    "return_m=return_m.fillna(0)\n",
    "#return_m.drop(columns=['2015-10-01',\"2015-11-01\"], inplace = True)\n",
    "return_m.drop(return_m.columns[range(0,k-1)], axis=1, inplace=True)\n"
   ]
  },
  {
   "cell_type": "markdown",
   "metadata": {},
   "source": [
    "回測架構"
   ]
  },
  {
   "cell_type": "code",
   "execution_count": 7,
   "metadata": {},
   "outputs": [],
   "source": [
    "s = 0\n",
    "n = 20\n",
    "a = len(df_return.columns)\n",
    "b = len(range(s,n))\n",
    "\n",
    "portfolio_list = {}\n",
    "for i in range(len(df_turnover.columns)): \n",
    "    profit=0\n",
    "    large = []\n",
    "    small = []\n",
    "    return_ = []\n",
    "    fliter = history_turnover.index.get_level_values('年月') <= str(df_turnover.columns[i])\n",
    "    median_turnover = history_turnover[fliter].groupby(level = 0)['週轉率％_月'].median()\n",
    "    for security in df_turnover.index:\n",
    "        if security in median_turnover.index and security in return_m.index:\n",
    "            if df_turnover.loc[security].iloc[i] > median_turnover.loc[security]:\n",
    "                large.append(security)  \n",
    "            elif df_turnover.loc[security].iloc[i] < median_turnover.loc[security] and df_turnover.loc[security].iloc[i] != 0: \n",
    "                small.append(security)\n",
    "    for j in large:\n",
    "        return_.append(return_m.loc[j].iloc[i])\n",
    "    portfolio = pd.DataFrame({\"Security\":large, \"AVG_Return\":return_})\n",
    "    portfolio = portfolio.set_index(\"Security\")\n",
    "    portfolio = portfolio.sort_values(by=\"AVG_Return\",ascending = False)[s:n]\n",
    "    portfolio_list[str(df_turnover.columns[i])] = portfolio.index\n",
    "portfolio_list = pd.DataFrame(portfolio_list) \n"
   ]
  },
  {
   "cell_type": "markdown",
   "metadata": {},
   "source": [
    "全樣本"
   ]
  },
  {
   "cell_type": "code",
   "execution_count": 8,
   "metadata": {},
   "outputs": [],
   "source": [
    "initial_fund=10000\n",
    "fund = 0\n",
    "keep = {} #上個月和這個月相同的股票及其金額 \n",
    "sell = {} #上個月和這個月不相同的股票及其金額\n",
    "stock = {} #所有選到的股票和其金額\n",
    "position_list = [initial_fund/b]\n",
    "profit_list=[initial_fund]\n",
    "fee = 1\n",
    "for i in range(len(df_turnover.columns)):\n",
    "    \n",
    "    hold = []\n",
    "    sold = []\n",
    "    profit = 0\n",
    "    hold1 = 0  #下個月不須售出個股的金額相加總\n",
    "    sold1 = 0  #下個月須售出個股的金額相加總\n",
    "    money_sold = 0  \n",
    "    position = 0\n",
    "    if i == 0:\n",
    "        for security in portfolio_list.iloc[:,0]:\n",
    "            hold2 = 0 #下個月不須售出個股的金額\n",
    "            sold2 = 0 #下個月須售出個股的金額\n",
    "            is_in_column2 = security in portfolio_list.iloc[:,1].values  ##這個月選到的股票在下個月是否也會選到\n",
    "            if is_in_column2 == True:\n",
    "                hold2 = position_list[0]*((df_return.loc[security].iloc[1])/100+1)\n",
    "                hold1 += hold2\n",
    "                hold.append([security,hold2])\n",
    "            else:\n",
    "                sold2 = (initial_fund//b)*((df_return.loc[security].iloc[1])/100+1) * fee\n",
    "                sold1 += sold2\n",
    "                sold.append([security,sold2])\n",
    "        keep[str(df_turnover.columns[0])] = hold\n",
    "        sell[str(df_turnover.columns[0])] = sold\n",
    "        stock[str(df_turnover.columns[0])] = hold + sold\n",
    "        profit = hold1 + sold1\n",
    "        profit_list.append(profit)\n",
    "    if i != 0 and i != a-1:\n",
    "\n",
    "        for k in sell[str(df_turnover.columns[i-1])]: #k是要上個月的股票需要賣掉的\n",
    "            money_sold += k[1] ## 將要賣掉的股票金額通通加起來\n",
    "\n",
    "        position = money_sold // len(sell[str(df_turnover.columns[i-1])])  #這個月可以每檔股票可以買的金額\n",
    "        position_list.append(position)\n",
    "        stock1=[] ##該月的所有股票\n",
    "\n",
    "\n",
    "        for security in portfolio_list.iloc[:,i]: #該月投資組合名單 \n",
    "            sold2 = 0\n",
    "            hold2 = 0\n",
    "\n",
    "            is_in_column2 = security in portfolio_list.iloc[:,i-1].values  #這個月投組是否和上個月有重複的\n",
    "            if is_in_column2 == False:\n",
    "            ##從這裡開始，用for迴圈試試看對應到的hold股票\n",
    "                sold2 = position * ((df_return.loc[security].iloc[i+1])/100+1)\n",
    "                sold1 += sold2\n",
    "                stock1.append((security,sold2))\n",
    "        \n",
    "            else:\n",
    "                for j in keep[str(df_turnover.columns[i-1])]:\n",
    "                    if j[0] == security:\n",
    "                        hold2 = ((df_return.loc[security].iloc[i+1])/100+1) * j[1] #這個月若在上個月裡\n",
    "                        hold1 += hold2\n",
    "                        stock1.append((security,hold2))\n",
    "                \n",
    "\n",
    "        stock[str(df_turnover.columns[i])] = stock1\n",
    "\n",
    "\n",
    "        for security in portfolio_list.iloc[:,i]:\n",
    "            is_in_column = security in portfolio_list.iloc[:,i+1].values\n",
    "            if is_in_column == True:\n",
    "                for k in stock[str(df_turnover.columns[i])]:\n",
    "                    if security == k[0]:\n",
    "                        hold.append(k)\n",
    "            else:\n",
    "                for k in stock[str(df_turnover.columns[i])]:\n",
    "                    if security == k[0]:\n",
    "                        sold.append(k)\n",
    "        keep[str(df_turnover.columns[i])] = hold\n",
    "        sell[str(df_turnover.columns[i])] = sold\n",
    "        stock[str(df_turnover.columns[i])] = hold + sold\n",
    "        profit = hold1 + sold1\n",
    "        profit_list.append(profit)\n"
   ]
  },
  {
   "cell_type": "code",
   "execution_count": 9,
   "metadata": {},
   "outputs": [],
   "source": [
    "initial_fund=10000\n",
    "fund = 0\n",
    "keep = {} #上個月和這個月相同的股票及其金額 \n",
    "sell = {} #上個月和這個月不相同的股票及其金額\n",
    "stock = {} #所有選到的股票和其金額\n",
    "position_list = [initial_fund/b]\n",
    "profit_fee_list=[initial_fund]\n",
    "fee = 0.97\n",
    "for i in range(len(df_turnover.columns)):\n",
    "    \n",
    "    hold = []\n",
    "    sold = []\n",
    "    profit = 0\n",
    "    hold1 = 0  #下個月不須售出個股的金額相加總\n",
    "    sold1 = 0  #下個月須售出個股的金額相加總\n",
    "    money_sold = 0  \n",
    "    position = 0\n",
    "    if i == 0:\n",
    "        for security in portfolio_list.iloc[:,0]:\n",
    "            hold2 = 0 #下個月不須售出個股的金額\n",
    "            sold2 = 0 #下個月須售出個股的金額\n",
    "            is_in_column2 = security in portfolio_list.iloc[:,1].values  ##這個月選到的股票在下個月是否也會選到\n",
    "            if is_in_column2 == True:\n",
    "                hold2 = position_list[0]*((df_return.loc[security].iloc[1])/100+1) * fee\n",
    "                hold1 += hold2\n",
    "                hold.append([security,hold2])\n",
    "            else:\n",
    "                sold2 = (initial_fund//b)*((df_return.loc[security].iloc[1])/100+1) * fee\n",
    "                sold1 += sold2\n",
    "                sold.append([security,sold2])\n",
    "        keep[str(df_turnover.columns[0])] = hold\n",
    "        sell[str(df_turnover.columns[0])] = sold\n",
    "        stock[str(df_turnover.columns[0])] = hold + sold\n",
    "        profit = hold1 + sold1\n",
    "        profit_fee_list.append(profit)\n",
    "    if i != 0 and i != a-1:\n",
    "\n",
    "        for k in sell[str(df_turnover.columns[i-1])]: #k是要上個月的股票需要賣掉的\n",
    "            money_sold += k[1] ## 將要賣掉的股票金額通通加起來\n",
    "\n",
    "        position = money_sold // len(sell[str(df_turnover.columns[i-1])])  #這個月可以每檔股票可以買的金額\n",
    "        position_list.append(position)\n",
    "        stock1=[] ##該月的所有股票\n",
    "\n",
    "\n",
    "        for security in portfolio_list.iloc[:,i]: #該月投資組合名單 \n",
    "            sold2 = 0\n",
    "            hold2 = 0\n",
    "\n",
    "            is_in_column2 = security in portfolio_list.iloc[:,i-1].values  #這個月投組是否和上個月有重複的\n",
    "            if is_in_column2 == False:\n",
    "            ##從這裡開始，用for迴圈試試看對應到的hold股票\n",
    "                sold2 = position * ((df_return.loc[security].iloc[i+1])/100+1) * fee\n",
    "                sold1 += sold2\n",
    "                stock1.append((security,sold2))\n",
    "        \n",
    "            else:\n",
    "                for j in keep[str(df_turnover.columns[i-1])]:\n",
    "                    if j[0] == security:\n",
    "\n",
    "                        hold2 = ((df_return.loc[security].iloc[i+1])/100+1) * j[1] #這個月若在上個月裡\n",
    "                        hold1 += hold2\n",
    "                        stock1.append((security,hold2))\n",
    "                \n",
    "\n",
    "        stock[str(df_turnover.columns[i])] = stock1\n",
    "\n",
    "\n",
    "        for security in portfolio_list.iloc[:,i]:\n",
    "            is_in_column = security in portfolio_list.iloc[:,i+1].values\n",
    "            if is_in_column == True:\n",
    "                for k in stock[str(df_turnover.columns[i])]:\n",
    "                    if security == k[0]:\n",
    "                        hold.append(k)\n",
    "            else:\n",
    "                for k in stock[str(df_turnover.columns[i])]:\n",
    "                    if security == k[0]:\n",
    "                        sold.append(k)\n",
    "        keep[str(df_turnover.columns[i])] = hold\n",
    "        sell[str(df_turnover.columns[i])] = sold\n",
    "        stock[str(df_turnover.columns[i])] = hold + sold\n",
    "        profit = hold1 + sold1\n",
    "        profit_fee_list.append(profit)\n"
   ]
  },
  {
   "cell_type": "markdown",
   "metadata": {},
   "source": [
    "全樣本績效"
   ]
  },
  {
   "cell_type": "code",
   "execution_count": 17,
   "metadata": {},
   "outputs": [],
   "source": [
    "equity = pd.DataFrame({'profit': profit_list,\n",
    "                      'profitfee': profit_fee_list}, index= df_return.columns)\n",
    "equity=equity-initial_fund\n",
    "equity['equity']=equity['profitfee'] + initial_fund\n",
    "equity['drawdown_percent'] = (equity['equity'] / equity['equity'].cummax()) - 1\n",
    "equity['drawdown'] = equity['equity'] - equity['equity'].cummax()\n",
    "high_index = equity[equity['profitfee'].cummax() == equity['profitfee']].index\n",
    "new_high = equity[equity['profitfee'].cummax() == equity['profitfee']]"
   ]
  },
  {
   "cell_type": "code",
   "execution_count": 18,
   "metadata": {},
   "outputs": [],
   "source": [
    "m_profit = []\n",
    "for i in range(len(equity['equity'])):\n",
    "    if i == 0:\n",
    "        m_profit.append(0)\n",
    "    else:\n",
    "        m_profit.append(equity['equity'].iloc[i]-equity['equity'].iloc[i-1])\n",
    "equity['m_profit'] = np.round(m_profit,4)\n",
    "monthly_ret = []\n",
    "for i in range(len(equity['equity'])):\n",
    "    if i == 0:\n",
    "        monthly_ret.append(0)\n",
    "    else:\n",
    "        monthly_ret.append(equity['equity'].iloc[i]/equity['equity'].iloc[i-1]-1)\n",
    "equity['m_return'] = np.round(monthly_ret,4)\n"
   ]
  },
  {
   "cell_type": "code",
   "execution_count": 19,
   "metadata": {},
   "outputs": [],
   "source": [
    "date = \"2021-06-01\"\n",
    "insample_condition = equity.index < date\n",
    "outsample_condition = equity.index >= date\n",
    "insample = equity[insample_condition]\n",
    "outsample = equity[outsample_condition]\n"
   ]
  },
  {
   "cell_type": "code",
   "execution_count": 20,
   "metadata": {},
   "outputs": [
    {
     "data": {
      "image/png": "[encoded data removed]",
      "text/plain": [
       "<Figure size 1600x600 with 1 Axes>"
      ]
     },
     "metadata": {},
     "output_type": "display_data"
    }
   ],
   "source": [
    "fig, ax = plt.subplots(figsize=(16, 6))\n",
    "equity['profitfee'].plot(label='Total Profit', ax=ax, c='r', grid=True)\n",
    "plt.fill_between(equity['drawdown'].index, equity['drawdown'],\n",
    "                 0, facecolor='r', label='Drawdown', alpha=0.5)\n",
    "plt.scatter(\n",
    "    high_index, equity['profitfee'].loc[high_index], c='#02ff0f', label='High')\n",
    "\n",
    "date = \"2021-06-01\"\n",
    "plt.axvline(x = date, color = \"b\", linestyle = \"--\", label='Separation Line')\n",
    "plt.legend()\n",
    "plt.ylabel('Accumulated Profit')\n",
    "plt.xlabel('Time')\n",
    "plt.title('Profit & Drawdown', fontsize=16)\n",
    "plt.savefig(\"'Profit & Drawdown'.jpg\")\n",
    "plt.show()\n"
   ]
  },
  {
   "cell_type": "markdown",
   "metadata": {},
   "source": [
    "全樣本績效"
   ]
  },
  {
   "cell_type": "code",
   "execution_count": 21,
   "metadata": {},
   "outputs": [],
   "source": [
    "all_sample_ret = equity['equity'].pct_change(periods=1).dropna()\n",
    "def cal_sharp(monthly_returns : np.ndarray, rf = 0, periods = 12):\n",
    "    Er = monthly_returns.sum() / len(monthly_returns) - rf / periods\n",
    "    sharp = Er/monthly_returns.std() * math.sqrt(periods)\n",
    "    return sharp\n",
    "\n",
    "def cal_volatility(monthly_ret : np.ndarray, periods = 12):\n",
    "    vol = np.sqrt(periods) * np.std(monthly_ret)\n",
    "    return vol\n"
   ]
  },
  {
   "cell_type": "code",
   "execution_count": 22,
   "metadata": {},
   "outputs": [
    {
     "name": "stdout",
     "output_type": "stream",
     "text": [
      "profit: $32026.26\n",
      "return: 420.26000000000005%\n",
      "mdd: 54.800000000000004%\n",
      "volatility: 44.0%\n",
      "calmarRatio: 7.67\n",
      "sharpRatio: 0.63\n",
      "tradeTimes: 92\n",
      "winRate: 55.91%\n",
      "profitFactor: 1.58\n",
      "winLossRatio: 1.22\n",
      "CAGR: 15.98%\n"
     ]
    }
   ],
   "source": [
    "profit = equity['profitfee'].iloc[-1]\n",
    "ret = equity['equity'][-1]/equity['equity'][0]\n",
    "mdd = abs(equity['drawdown_percent'].min())\n",
    "calmarRatio = ret / mdd\n",
    "tradeTimes = len(equity)-1\n",
    "winRate = len([i for i in equity['m_return'] if i > 0]) / len(equity['m_return'])\n",
    "profitFactor = sum([i for i in equity['m_profit'] if i > 0]) / abs(sum([i for i in equity['m_profit'] if i < 0]))\n",
    "winLossRatio = np.mean([i for i in equity['m_profit'] if i > 0]) / abs(np.mean([i for i in equity['m_profit'] if i < 0]))\n",
    "cagr = (equity['equity'][-1]/initial_fund) **(1/9.683) -1\n",
    "print(f'profit: ${np.round(profit,2)}')\n",
    "print(f'return: {np.round(ret,4)*100}%')\n",
    "print(f'mdd: {np.round(mdd,4)*100}%')\n",
    "print(f'volatility: {np.round(cal_volatility(all_sample_ret),2)*100}%')\n",
    "print(f'calmarRatio: {np.round(calmarRatio,2)}')\n",
    "print(f'sharpRatio: {np.round(cal_sharp(all_sample_ret),2)}')\n",
    "print(f'tradeTimes: {tradeTimes}')\n",
    "print(f'winRate: {np.round(winRate,4)*100:.2f}%')\n",
    "print(f'profitFactor: {np.round(profitFactor,2)}')\n",
    "print(f'winLossRatio: {np.round(winLossRatio,2)}')\n",
    "print(f'CAGR: {cagr * 100:.2f}%')"
   ]
  },
  {
   "cell_type": "markdown",
   "metadata": {},
   "source": [
    "樣本內績效"
   ]
  },
  {
   "cell_type": "code",
   "execution_count": 23,
   "metadata": {},
   "outputs": [
    {
     "name": "stdout",
     "output_type": "stream",
     "text": [
      "return: 235.49%\n",
      "mdd: 52.83%\n",
      "volatility: 44.0%\n",
      "calmarRatio: 4.46\n",
      "sharpRatio: 0.63\n",
      "tradeTimes: 59\n",
      "winRate: 53.33%\n",
      "profitFactor: 1.61\n",
      "winLossRatio: 1.36\n",
      "CAGR: 13.02%\n"
     ]
    }
   ],
   "source": [
    "profit = insample['profitfee'].iloc[-1]\n",
    "ret = insample['equity'][-1]/insample['equity'][0]\n",
    "mdd = abs(insample['drawdown_percent'].min())\n",
    "calmarRatio = ret / mdd\n",
    "tradeTimes = len(insample)-1\n",
    "winRate = len([i for i in insample['m_return'] if i > 0]) / len(insample['m_return'])\n",
    "profitFactor = sum([i for i in insample['m_profit'] if i > 0]) / abs(sum([i for i in insample['m_profit'] if i < 0]))\n",
    "winLossRatio = np.mean([i for i in insample['m_profit'] if i > 0]) / abs(np.mean([i for i in insample['m_profit'] if i < 0]))\n",
    "cagr = (insample['equity'][-1]/initial_fund) **(1/7) -1\n",
    "\n",
    "print(f'return: {np.round(ret,4)*100}%')\n",
    "print(f'mdd: {np.round(mdd,4)*100}%')\n",
    "print(f'volatility: {np.round(cal_volatility(all_sample_ret),2)*100}%')\n",
    "print(f'calmarRatio: {np.round(calmarRatio,2)}')\n",
    "print(f'sharpRatio: {np.round(cal_sharp(all_sample_ret),2)}')\n",
    "print(f'tradeTimes: {tradeTimes}')\n",
    "print(f'winRate: {np.round(winRate,4)*100:.2f}%')\n",
    "print(f'profitFactor: {np.round(profitFactor,2)}')\n",
    "print(f'winLossRatio: {np.round(winLossRatio,2)}')\n",
    "print(f'CAGR: {cagr * 100:.2f}%')"
   ]
  },
  {
   "cell_type": "markdown",
   "metadata": {},
   "source": [
    "樣本外績效"
   ]
  },
  {
   "cell_type": "code",
   "execution_count": 24,
   "metadata": {},
   "outputs": [
    {
     "name": "stdout",
     "output_type": "stream",
     "text": [
      "return: 129.75%\n",
      "mdd: 54.800000000000004%\n",
      "volatility: 44.0%\n",
      "calmarRatio: 2.37\n",
      "sharpRatio: 0.63\n",
      "tradeTimes: 32\n",
      "winRate: 60.61%\n",
      "profitFactor: 1.56\n",
      "winLossRatio: 1.01\n",
      "CAGR: 10.13%\n"
     ]
    }
   ],
   "source": [
    "profit = outsample['profitfee'].iloc[-1]-outsample['profitfee'].iloc[0]\n",
    "ret = outsample['equity'][-1]/outsample['equity'][0]\n",
    "mdd = abs(outsample['drawdown_percent'].min())\n",
    "calmarRatio = ret / mdd\n",
    "tradeTimes = len(outsample)-1\n",
    "winRate = len([i for i in outsample['m_return'] if i > 0]) / len(outsample['m_return'])\n",
    "profitFactor = sum([i for i in outsample['m_profit'] if i > 0]) / abs(sum([i for i in outsample['m_profit'] if i < 0]))\n",
    "winLossRatio = np.mean([i for i in outsample['m_profit'] if i > 0]) / abs(np.mean([i for i in outsample['m_profit'] if i < 0]))\n",
    "cagr = (outsample['equity'][-1]/outsample['equity'][0]) ** (1/2.7) -1\n",
    "\n",
    "print(f'return: {np.round(ret,4)*100}%')\n",
    "print(f'mdd: {np.round(mdd,4)*100}%')\n",
    "print(f'volatility: {np.round(cal_volatility(all_sample_ret),2)*100}%')\n",
    "print(f'calmarRatio: {np.round(calmarRatio,2)}')\n",
    "print(f'sharpRatio: {np.round(cal_sharp(all_sample_ret),2)}')\n",
    "print(f'tradeTimes: {tradeTimes}')\n",
    "print(f'winRate: {np.round(winRate,4)*100:.2f}%')\n",
    "print(f'profitFactor: {np.round(profitFactor,2)}')\n",
    "print(f'winLossRatio: {np.round(winLossRatio,2)}')\n",
    "print(f'CAGR: {cagr * 100:.2f}%')"
   ]
  },
  {
   "cell_type": "code",
   "execution_count": null,
   "metadata": {},
   "outputs": [],
   "source": []
  }
 ],
 "metadata": {
  "kernelspec": {
   "display_name": "Python 3",
   "language": "python",
   "name": "python3"
  },
  "language_info": {
   "codemirror_mode": {
    "name": "ipython",
    "version": 3
   },
   "file_extension": ".py",
   "mimetype": "text/x-python",
   "name": "python",
   "nbconvert_exporter": "python",
   "pygments_lexer": "ipython3",
   "version": "3.10.9"
  }
 },
 "nbformat": 4,
 "nbformat_minor": 2
}
